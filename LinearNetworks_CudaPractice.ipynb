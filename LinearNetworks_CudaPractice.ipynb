{
  "nbformat": 4,
  "nbformat_minor": 0,
  "metadata": {
    "colab": {
      "name": "LinearNetworks_CudaPractice.ipynb",
      "provenance": [],
      "collapsed_sections": [],
      "toc_visible": true
    },
    "kernelspec": {
      "name": "python3",
      "display_name": "Python 3"
    },
    "language_info": {
      "name": "python"
    },
    "accelerator": "GPU"
  },
  "cells": [
    {
      "cell_type": "markdown",
      "metadata": {
        "id": "4MZ1VJGTmeOi"
      },
      "source": [
        "# Cuda Practice on a Linear Network"
      ]
    },
    {
      "cell_type": "markdown",
      "metadata": {
        "id": "w_nnzkDfmnDz"
      },
      "source": [
        "## Fashion MNIST Dataset Download Commands"
      ]
    },
    {
      "cell_type": "code",
      "metadata": {
        "id": "STNXwbvLh0N_"
      },
      "source": [
        "# Note: Forwarded stderr to /dev/null so no output will be shown but it works! :)\n",
        "!wget -O train-images-idx3-ubyte.gz http://fashion-mnist.s3-website.eu-central-1.amazonaws.com/train-images-idx3-ubyte.gz 2> /dev/null\n",
        "!wget -O train-labels-idx1-ubyte.gz http://fashion-mnist.s3-website.eu-central-1.amazonaws.com/train-labels-idx1-ubyte.gz 2> /dev/null\n",
        "!wget -O t10k-images-idx3-ubyte.gz http://fashion-mnist.s3-website.eu-central-1.amazonaws.com/t10k-images-idx3-ubyte.gz 2> /dev/null\n",
        "!wget -O t10k-labels-idx1-ubyte.gz http://fashion-mnist.s3-website.eu-central-1.amazonaws.com/t10k-labels-idx1-ubyte.gz 2> /dev/null"
      ],
      "execution_count": 1,
      "outputs": []
    },
    {
      "cell_type": "markdown",
      "metadata": {
        "id": "lBxZgfXWmw6R"
      },
      "source": [
        "## Libraries"
      ]
    },
    {
      "cell_type": "code",
      "metadata": {
        "id": "5ys4NhRHhLKH"
      },
      "source": [
        "# -*- coding: utf-8 -*-\n",
        "import os\n",
        "import gzip\n",
        "import torch as th\n",
        "import numpy as np\n",
        "import matplotlib.pyplot as plt\n",
        "import argparse\n",
        "import timeit"
      ],
      "execution_count": 10,
      "outputs": []
    },
    {
      "cell_type": "markdown",
      "metadata": {
        "id": "HrcEAjREh5ep"
      },
      "source": [
        "## Function that Loads Dataset"
      ]
    },
    {
      "cell_type": "code",
      "metadata": {
        "id": "U0O_n-8hhxCa"
      },
      "source": [
        "def load_mnist(dataset=\"training\", path=\".\"):\n",
        "    if dataset not in  ['training', 'testing']:\n",
        "        raise ValueError(\"dataset has to be either 'training' or 'testing'\")\n",
        "\n",
        "    if dataset == 'training':\n",
        "        kind = 'train'\n",
        "    else:\n",
        "        kind = 't10k'\n",
        "\n",
        "    \"\"\"Load MNIST data from `path`\"\"\"\n",
        "    labels_path = os.path.join(path, '%s-labels-idx1-ubyte.gz' % kind)\n",
        "    images_path = os.path.join(path, '%s-images-idx3-ubyte.gz' % kind)\n",
        "\n",
        "    with gzip.open(labels_path, 'rb') as lbpath:\n",
        "        labels = np.frombuffer(lbpath.read(), dtype=np.uint8, offset=8).astype(np.float32)\n",
        "\n",
        "    with gzip.open(images_path, 'rb') as imgpath:\n",
        "        images = np.frombuffer(imgpath.read(), dtype=np.uint8, offset=16).reshape(len(labels), 28, 28).astype(np.float32)\n",
        "\n",
        "    return th.from_numpy(images), th.from_numpy(labels)"
      ],
      "execution_count": 3,
      "outputs": []
    },
    {
      "cell_type": "markdown",
      "metadata": {
        "id": "G2sBQ7xUm3tZ"
      },
      "source": [
        "## Dataset Class, Network Class, Train and Evaluate Function"
      ]
    },
    {
      "cell_type": "code",
      "metadata": {
        "id": "IbpyaEmrh_5a"
      },
      "source": [
        "class DatasetFashion():\n",
        "    def __init__(self, option, crossvalidation=None, shuffle_mask=None, split_ratio=0.8, path='./'):\n",
        "        \n",
        "        if option==\"testing\":\n",
        "                X,y = load_mnist(\"testing\", path)\n",
        "        else:\n",
        "                X,y = load_mnist(\"training\", path)\n",
        "\n",
        "        self.images = X.reshape([-1, 28*28])\n",
        "        self.images = self.images/255.0\n",
        "        self.labels = y.type(th.long)\n",
        "        self.shuffle_mask = shuffle_mask\n",
        "        self.split_ratio = split_ratio\n",
        "\n",
        "        if option==\"training\":\n",
        "                \n",
        "                # shuffle the data before splitting\n",
        "                indices = th.randperm(len(self.labels))\n",
        "                self.images = self.images[indices]\n",
        "                self.labels = self.labels[indices]\n",
        "\n",
        "                self.shuffle_mask = indices\n",
        "\n",
        "                if crossvalidation:\n",
        "                        splitSize = len(self.labels)//crossvalidation[0]\n",
        "                        chunks = th.split(th.arange(len(self.labels)), splitSize, dim=0)\n",
        "                        validation = chunks[crossvalidation[1]]\n",
        "                        training = th.cat([c for j, c in enumerate(chunks) if j!=crossvalidation[1]], dim=0)\n",
        "                        self.validationImages = self.images[validation]\n",
        "                        self.validationLabels = self.labels[validation]\n",
        "                        self.trainingImages = self.images[training]\n",
        "                        self.trainingLabels = self.labels[training]\n",
        "                \n",
        "                else:\n",
        "                        #split the data\n",
        "                        split_value = int(len(self.images)*split_ratio)\n",
        "\n",
        "                        self.images = self.images[:split_value]\n",
        "                        self.labels = self.labels[:split_value]\n",
        "\n",
        "        elif option==\"validation\":\n",
        "                self.images = self.images[shuffle_mask]\n",
        "                self.labels = self.labels[shuffle_mask]\n",
        "                print(\"len: \", len(self.images))\n",
        "\n",
        "                #split the data\n",
        "                split_value = int(len(self.images)*(split_ratio))\n",
        "                print(\"split_value= \", split_value)\n",
        "\n",
        "                self.images = self.images[split_value:]\n",
        "                self.labels = self.labels[split_value:]\n",
        "                     \n",
        "    def __len__(self):\n",
        "        return len(self.labels)\n",
        "\n",
        "    def __getitem__(self, index):\n",
        "        return self.images[index], self.labels[index]\n",
        "\n",
        "class Network(th.nn.Module):\n",
        "    def __init__(self, num_inputs, num_classes, num_neurons=(50,50), activation=[th.nn.Sigmoid(),th.nn.Sigmoid()]):\n",
        "        super(Network, self).__init__()\n",
        "        self.activation = activation\n",
        "        \n",
        "        self.layers = th.nn.ModuleList()\n",
        "        self.layers.append(th.nn.Linear(num_inputs, num_neurons[0], True))\n",
        "        self.layers.append(activation[0])\n",
        "        for i in range(len(num_neurons)-1):\n",
        "            self.layers.append(th.nn.Linear(num_neurons[i], num_neurons[i+1], True))\n",
        "            self.layers.append(activation[i+1])\n",
        "        self.layers.append(th.nn.Linear(num_neurons[-1], num_classes, True))\n",
        "        self.layers.append(th.nn.LogSoftmax(dim=1))   # If CrossEntropyLoss function is used as loss function, CrossEntropyLoss takes care of both logSoftmax and NLL loss\n",
        "        \n",
        "    def forward(self, x):\n",
        "        for layer in self.layers:\n",
        "            x = layer(x)\n",
        "        return x\n",
        "\n",
        "\"\"\"\n",
        "reg_type   regularization type: l1 or l2\n",
        "\"\"\"\n",
        "def train(model, dataloader, optimizer, lossFunc, device = th.device('cpu'), debug=False):\n",
        "    \n",
        "    loss_hist = np.array([])\n",
        "    for index, (trainingImages,trainingLabels) in enumerate(dataloader):\n",
        "        optimizer.zero_grad()\n",
        "\n",
        "        trainingImages = trainingImages.to(device, non_blocking=True)\n",
        "        trainingLabels = trainingLabels.to(device, non_blocking=True)\n",
        "\n",
        "        prediction = model(trainingImages.reshape(-1, 28*28))\n",
        "\n",
        "        loss = lossFunc(prediction, trainingLabels)\n",
        "        \n",
        "        loss_hist = np.append(loss_hist, loss.item())\n",
        "        loss.backward()\n",
        "        optimizer.step()\n",
        "        if debug:\n",
        "            with th.no_grad():\n",
        "                if index % 100 == 0:\n",
        "                    print('Train {}/{} Loss {:.6f}'.format(index, len(dataloader), loss.item()))\n",
        "    return loss_hist\n",
        "\n",
        "def evaluate(model, val_dataloader, lossFunction, device = th.device('cpu')):\n",
        "\n",
        "    total_loss = 0\n",
        "    total_accuracy = 0\n",
        "    for (val_images, val_labels) in val_dataloader:\n",
        "\n",
        "        val_images = val_images.to(device, non_blocking=True)\n",
        "        val_labels = val_labels.to(device, non_blocking=True)\n",
        "\n",
        "        prediction = model(val_images.reshape(-1, 28*28))\n",
        "        loss = lossFunction(prediction, val_labels.squeeze()).item() / len(val_images)\n",
        "        total_loss += loss\n",
        "\n",
        "        pred_label = th.argmax(prediction, dim=1)\n",
        "        #print(\"----------\", pred_label[0:10], labels.squeeze()[0:10], pred_label[0:10] == labels.squeeze()[0:10])\n",
        "        accuracy = ((pred_label == val_labels).sum().item()) / len(val_images)\n",
        "        #accuracy = th.sum(pred_label == labels.squeeze()) / len(labels)\n",
        "        total_accuracy += accuracy\n",
        "\n",
        "    avg_loss = total_loss / len(val_dataloader)\n",
        "    avg_accuracy = total_accuracy / len(val_dataloader)\n",
        "    return avg_loss, avg_accuracy"
      ],
      "execution_count": 17,
      "outputs": []
    },
    {
      "cell_type": "code",
      "metadata": {
        "colab": {
          "base_uri": "https://localhost:8080/"
        },
        "id": "f7GvT7qClwHT",
        "outputId": "578755e9-7c77-4099-acca-09c21f3bb0eb"
      },
      "source": [
        "model = Network(28*28, 10, num_neurons=(50,150), activation=[th.nn.Sigmoid(), th.nn.Sigmoid()])\n",
        "for name, param in model.named_parameters():\n",
        "    if 'bias' not in name:\n",
        "        print(param.shape)"
      ],
      "execution_count": 5,
      "outputs": [
        {
          "output_type": "stream",
          "text": [
            "torch.Size([50, 784])\n",
            "torch.Size([150, 50])\n",
            "torch.Size([10, 150])\n"
          ],
          "name": "stdout"
        }
      ]
    },
    {
      "cell_type": "code",
      "metadata": {
        "colab": {
          "base_uri": "https://localhost:8080/",
          "height": 351
        },
        "id": "eLocy-Vth_2A",
        "outputId": "3947e900-4e43-40eb-ce8e-c338d03d0d46"
      },
      "source": [
        "dataset = DatasetFashion(option=\"training\")\n",
        "print(len(dataset))\n",
        "dataloader = th.utils.data.DataLoader(dataset, batch_size=1, shuffle=True)\n",
        "\n",
        "for index, (images,labels) in enumerate(dataloader):\n",
        "    print(images.shape)\n",
        "    plt.figure(figsize=(2,2))\n",
        "    plt.imshow(images.reshape(28,28), cmap='gray')\n",
        "    if index == 1:\n",
        "        break"
      ],
      "execution_count": 16,
      "outputs": [
        {
          "output_type": "stream",
          "text": [
            "48000\n",
            "torch.Size([1, 784])\n",
            "torch.Size([1, 784])\n"
          ],
          "name": "stdout"
        },
        {
          "output_type": "display_data",
          "data": {
            "image/png": "[encoded data removed]",
            "text/plain": [
              "<Figure size 144x144 with 1 Axes>"
            ]
          },
          "metadata": {
            "tags": [],
            "needs_background": "light"
          }
        },
        {
          "output_type": "display_data",
          "data": {
            "image/png": "[encoded data removed]",
            "text/plain": [
              "<Figure size 144x144 with 1 Axes>"
            ]
          },
          "metadata": {
            "tags": [],
            "needs_background": "light"
          }
        }
      ]
    },
    {
      "cell_type": "markdown",
      "metadata": {
        "id": "qSAsp_nH50LE"
      },
      "source": [
        "## Device Settings"
      ]
    },
    {
      "cell_type": "code",
      "metadata": {
        "colab": {
          "base_uri": "https://localhost:8080/"
        },
        "id": "gL-SoJy7n4Y2",
        "outputId": "f8111f7f-eac5-4555-b187-c10b49a96e19"
      },
      "source": [
        "disable_cuda = False    # a=> args.disable_cuda\n",
        "\n",
        "if not disable_cuda and th.cuda.is_available():\n",
        "    device = th.device('cuda')\n",
        "else:\n",
        "    device = th.device('cpu')\n",
        "\n",
        "print(device)\n",
        "\n",
        "print(\"device count: \", th.cuda.device_count())"
      ],
      "execution_count": 14,
      "outputs": [
        {
          "output_type": "stream",
          "text": [
            "cuda\n",
            "device count:  1\n"
          ],
          "name": "stdout"
        }
      ]
    },
    {
      "cell_type": "markdown",
      "metadata": {
        "id": "DGnTZ8_4nviw"
      },
      "source": [
        "## With Cuda"
      ]
    },
    {
      "cell_type": "code",
      "metadata": {
        "colab": {
          "base_uri": "https://localhost:8080/",
          "height": 668
        },
        "id": "GHQymVSv1nKx",
        "outputId": "7f83d518-0f49-4b5b-f8ef-0770b0e62661"
      },
      "source": [
        "batch_size = 32\n",
        "\n",
        "train_dataset = DatasetFashion(option=\"training\")\n",
        "dataloader = th.utils.data.DataLoader(train_dataset, batch_size=batch_size, shuffle=True, pin_memory=True)\n",
        "\n",
        "val_dataset = DatasetFashion(option=\"validation\", shuffle_mask=train_dataset.shuffle_mask)\n",
        "val_dataloader = th.utils.data.DataLoader(val_dataset, batch_size=batch_size, shuffle=True, pin_memory=True)\n",
        "\n",
        "lossFunction = th.nn.NLLLoss()\n",
        "\n",
        "model = Network(num_inputs=28*28, num_classes=10, num_neurons=(50,50,50), activation=[th.nn.Sigmoid(),th.nn.Sigmoid(),th.nn.Sigmoid()]).to(device=device)\n",
        "\n",
        "optimizer = th.optim.SGD(model.parameters(), lr=0.005)\n",
        "\n",
        "epoch = 20\n",
        "\n",
        "start = timeit.default_timer()\n",
        "\n",
        "loss_hist = np.array([])   \n",
        "val_loss_hist = np.array([])\n",
        "val_acc_hist = np.array([])\n",
        "for i in range(epoch):\n",
        "    #training\n",
        "    loss_hist_per_epoch = train(model, dataloader, optimizer, lossFunction, device=device, debug=False)\n",
        "    #evaluation\n",
        "    avg_loss, avg_accuracy = evaluate(model, val_dataloader, lossFunction, device=device)\n",
        "\n",
        "    #loss and accuracy histories are kept\n",
        "    loss_hist = np.hstack((loss_hist, loss_hist_per_epoch))\n",
        "    val_loss_hist = np.hstack((val_loss_hist, avg_loss))\n",
        "    val_acc_hist = np.hstack((val_acc_hist, avg_accuracy))\n",
        "\n",
        "    print(\"epoch \", i+1, \" validation loss: \", avg_loss, \" validation accuracy: \", avg_accuracy)\n",
        "\n",
        "stop = timeit.default_timer()\n",
        "print('Time: ', stop - start) \n",
        "\n",
        "plt.plot(val_acc_hist, label=\"validation acc\")\n",
        "plt.plot(val_loss_hist, label=\"validation loss\")\n",
        "plt.legend()"
      ],
      "execution_count": 18,
      "outputs": [
        {
          "output_type": "stream",
          "text": [
            "len:  60000\n",
            "split_value=  48000\n",
            "epoch  1  validation loss:  0.07196961494286855  validation accuracy:  0.09925\n",
            "epoch  2  validation loss:  0.07196016923586528  validation accuracy:  0.09875\n",
            "epoch  3  validation loss:  0.07194259963432947  validation accuracy:  0.10625\n",
            "epoch  4  validation loss:  0.07195240147908528  validation accuracy:  0.09533333333333334\n",
            "epoch  5  validation loss:  0.07195836665232977  validation accuracy:  0.09533333333333334\n",
            "epoch  6  validation loss:  0.07193348968029022  validation accuracy:  0.0975\n",
            "epoch  7  validation loss:  0.0719167846639951  validation accuracy:  0.09533333333333334\n",
            "epoch  8  validation loss:  0.07188027717669805  validation accuracy:  0.09816666666666667\n",
            "epoch  9  validation loss:  0.07190444626410802  validation accuracy:  0.09533333333333334\n",
            "epoch  10  validation loss:  0.07185791995127996  validation accuracy:  0.09875\n",
            "epoch  11  validation loss:  0.07182767536242803  validation accuracy:  0.13866666666666666\n",
            "epoch  12  validation loss:  0.07179849555095037  validation accuracy:  0.17816666666666667\n",
            "epoch  13  validation loss:  0.07176683813333512  validation accuracy:  0.11775\n",
            "epoch  14  validation loss:  0.07168395757675171  validation accuracy:  0.16583333333333333\n",
            "epoch  15  validation loss:  0.07160196053981781  validation accuracy:  0.16258333333333333\n",
            "epoch  16  validation loss:  0.07139781183004379  validation accuracy:  0.24008333333333334\n",
            "epoch  17  validation loss:  0.07110132896900177  validation accuracy:  0.19583333333333333\n",
            "epoch  18  validation loss:  0.07049114026625951  validation accuracy:  0.2765\n",
            "epoch  19  validation loss:  0.06905474575360616  validation accuracy:  0.26975\n",
            "epoch  20  validation loss:  0.06563815714915594  validation accuracy:  0.25775\n",
            "Time:  46.67965518099936\n"
          ],
          "name": "stdout"
        },
        {
          "output_type": "execute_result",
          "data": {
            "text/plain": [
              "<matplotlib.legend.Legend at 0x7fde4c0e2710>"
            ]
          },
          "metadata": {
            "tags": []
          },
          "execution_count": 18
        },
        {
          "output_type": "display_data",
          "data": {
            "image/png": "[encoded data removed]",
            "text/plain": [
              "<Figure size 432x288 with 1 Axes>"
            ]
          },
          "metadata": {
            "tags": [],
            "needs_background": "light"
          }
        }
      ]
    },
    {
      "cell_type": "markdown",
      "metadata": {
        "id": "1P-lf06YnF7Y"
      },
      "source": [
        "## Without CUDA"
      ]
    },
    {
      "cell_type": "code",
      "metadata": {
        "colab": {
          "base_uri": "https://localhost:8080/",
          "height": 668
        },
        "id": "qLojQkkK5Fjd",
        "outputId": "d1eb53c6-8913-4947-ee70-1bfe4e48c9b9"
      },
      "source": [
        "batch_size = 32\n",
        "\n",
        "train_dataset = DatasetFashion(option=\"training\")\n",
        "dataloader = th.utils.data.DataLoader(train_dataset, batch_size=batch_size, shuffle=True)\n",
        "\n",
        "val_dataset = DatasetFashion(option=\"validation\", shuffle_mask=train_dataset.shuffle_mask)\n",
        "val_dataloader = th.utils.data.DataLoader(val_dataset, batch_size=batch_size, shuffle=True)\n",
        "\n",
        "lossFunction = th.nn.NLLLoss()\n",
        "\n",
        "device = th.device('cpu')\n",
        "\n",
        "model = Network(num_inputs=28*28, num_classes=10, num_neurons=(50,50,50), activation=[th.nn.Sigmoid(),th.nn.Sigmoid(),th.nn.Sigmoid()]).to(device=device)\n",
        "\n",
        "optimizer = th.optim.SGD(model.parameters(), lr=0.005)\n",
        "\n",
        "epoch = 20\n",
        "\n",
        "start = timeit.default_timer()\n",
        "\n",
        "loss_hist = np.array([])   \n",
        "val_loss_hist = np.array([])\n",
        "val_acc_hist = np.array([])\n",
        "for i in range(epoch):\n",
        "    #training\n",
        "    loss_hist_per_epoch = train(model, dataloader, optimizer, lossFunction, device=device, debug=False)\n",
        "    #evaluation\n",
        "    avg_loss, avg_accuracy = evaluate(model, val_dataloader, lossFunction, device=device)\n",
        "\n",
        "    #loss and accuracy histories are kept\n",
        "    loss_hist = np.hstack((loss_hist, loss_hist_per_epoch))\n",
        "    val_loss_hist = np.hstack((val_loss_hist, avg_loss))\n",
        "    val_acc_hist = np.hstack((val_acc_hist, avg_accuracy))\n",
        "\n",
        "    print(\"epoch \", i+1, \" validation loss: \", avg_loss, \" validation accuracy: \", avg_accuracy)\n",
        "\n",
        "stop = timeit.default_timer()\n",
        "print('Time: ', stop - start) \n",
        "\n",
        "plt.plot(val_acc_hist, label=\"validation acc\")\n",
        "plt.plot(val_loss_hist, label=\"validation loss\")\n",
        "plt.legend()"
      ],
      "execution_count": 19,
      "outputs": [
        {
          "output_type": "stream",
          "text": [
            "len:  60000\n",
            "split_value=  48000\n",
            "epoch  1  validation loss:  0.07198342682917913  validation accuracy:  0.09791666666666667\n",
            "epoch  2  validation loss:  0.07196305032571157  validation accuracy:  0.10341666666666667\n",
            "epoch  3  validation loss:  0.07195813467105229  validation accuracy:  0.09258333333333334\n",
            "epoch  4  validation loss:  0.07196012339989344  validation accuracy:  0.0925\n",
            "epoch  5  validation loss:  0.07193929086128871  validation accuracy:  0.0925\n",
            "epoch  6  validation loss:  0.07193459379673005  validation accuracy:  0.10225\n",
            "epoch  7  validation loss:  0.07192509041229884  validation accuracy:  0.1135\n",
            "epoch  8  validation loss:  0.071922693947951  validation accuracy:  0.09866666666666667\n",
            "epoch  9  validation loss:  0.07190870716174444  validation accuracy:  0.10108333333333333\n",
            "epoch  10  validation loss:  0.07190073299407959  validation accuracy:  0.09908333333333333\n",
            "epoch  11  validation loss:  0.07186176045735677  validation accuracy:  0.11866666666666667\n",
            "epoch  12  validation loss:  0.07184009234110514  validation accuracy:  0.197\n",
            "epoch  13  validation loss:  0.07182879503568014  validation accuracy:  0.13408333333333333\n",
            "epoch  14  validation loss:  0.07173290799061458  validation accuracy:  0.17291666666666666\n",
            "epoch  15  validation loss:  0.07164091374476751  validation accuracy:  0.26325\n",
            "epoch  16  validation loss:  0.07151681953668594  validation accuracy:  0.277\n",
            "epoch  17  validation loss:  0.07127638608217239  validation accuracy:  0.19408333333333333\n",
            "epoch  18  validation loss:  0.07086816481749217  validation accuracy:  0.17725\n",
            "epoch  19  validation loss:  0.06984599085648854  validation accuracy:  0.19033333333333333\n",
            "epoch  20  validation loss:  0.06732065171003342  validation accuracy:  0.20533333333333334\n",
            "Time:  30.945210775000305\n"
          ],
          "name": "stdout"
        },
        {
          "output_type": "execute_result",
          "data": {
            "text/plain": [
              "<matplotlib.legend.Legend at 0x7fde4c0a58d0>"
            ]
          },
          "metadata": {
            "tags": []
          },
          "execution_count": 19
        },
        {
          "output_type": "display_data",
          "data": {
            "image/png": "[encoded data removed]",
            "text/plain": [
              "<Figure size 432x288 with 1 Axes>"
            ]
          },
          "metadata": {
            "tags": [],
            "needs_background": "light"
          }
        }
      ]
    },
    {
      "cell_type": "markdown",
      "metadata": {
        "id": "nvMiG0ZenWq9"
      },
      "source": [
        "## Why this result occured?\n",
        "\n",
        "Since this network is small and the dataset is not big, GPU performance differences could not be observed. Therefore, transfer times to GPU caused spending more time."
      ]
    },
    {
      "cell_type": "markdown",
      "metadata": {
        "id": "ICIvFWVW5wjb"
      },
      "source": [
        "## Example Usage of CUDA"
      ]
    },
    {
      "cell_type": "code",
      "metadata": {
        "id": "66zJPdoIh_uJ"
      },
      "source": [
        "net = Network(num_inputs=28*28, num_classes=10).to(device=device)\n",
        "\n",
        "dataset = DatasetFashion(option=\"training\")\n",
        "dataloader = th.utils.data.DataLoader(dataset, batch_size=32, shuffle=True)\n",
        "\n",
        "cuda0 = th.device('cuda:0')  # CUDA GPU 0\n",
        "for i, (images, labels) in enumerate(dataloader):\n",
        "    images = images.to(cuda0)\n",
        "    labels = labels.to(cuda0)"
      ],
      "execution_count": 27,
      "outputs": []
    }
  ]
}